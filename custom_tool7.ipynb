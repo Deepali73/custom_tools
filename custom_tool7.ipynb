{
 "cells": [
  {
   "cell_type": "code",
   "execution_count": 1,
   "id": "d30a9f1c-bf92-494c-bc43-0f90167bca9b",
   "metadata": {},
   "outputs": [
    {
     "name": "stderr",
     "output_type": "stream",
     "text": [
      "C:\\Users\\ASUS\\AppData\\Local\\Temp\\ipykernel_20348\\1442800283.py:39: LangChainDeprecationWarning: LangChain agents will continue to be supported, but it is recommended for new use cases to be built with LangGraph. LangGraph offers a more flexible and full-featured framework for building agents, including support for tool-calling, persistence of state, and human-in-the-loop workflows. For details, refer to the `LangGraph documentation <https://langchain-ai.github.io/langgraph/>`_ as well as guides for `Migrating from AgentExecutor <https://python.langchain.com/docs/how_to/migrate_agent/>`_ and LangGraph's `Pre-built ReAct agent <https://langchain-ai.github.io/langgraph/how-tos/create-react-agent/>`_.\n",
      "  agent = initialize_agent(\n"
     ]
    },
    {
     "name": "stdout",
     "output_type": "stream",
     "text": [
      "Course & College Guidance Agent Ready!\n"
     ]
    },
    {
     "name": "stdin",
     "output_type": "stream",
     "text": [
      "What topic are you interested in learning?\n",
      ">  AI and Machine Learning\n"
     ]
    },
    {
     "name": "stdout",
     "output_type": "stream",
     "text": [
      "\n",
      "\n",
      "\u001b[1m> Entering new AgentExecutor chain...\u001b[0m\n",
      "\u001b[32;1m\u001b[1;3mQuestion: What are some top learning paths and institutes for AI and Machine Learning?\n",
      "Thought: I need to find learning paths and institutes for AI and Machine Learning.  The `course_college_recommender` tool seems appropriate.\n",
      "Action: course_college_recommender\n",
      "Action Input: 'AI and Machine Learning'\u001b[0m\n",
      "Observation: \u001b[36;1m\u001b[1;3mWikipedia Summary:\n",
      "Artificial intelligence (AI) is the capability of computational systems to perform tasks typically associated with human intelligence, such as learning, reasoning, problem-solving, perception, and decision-making. It is a field of research in computer science that develops and studies methods and software that enable machines to perceive their environment and use learning and intelligence to take actions that maximize their chances of achieving defined goals.\n",
      "\n",
      " Gemini Recommendations:\n",
      "content=\"## AI and Machine Learning: Resources for Learning\\n\\nHere are some suggestions for online courses, tools/platforms, and university programs for someone interested in AI and Machine Learning:\\n\\n\\n**Online Courses:**\\n\\n1. **Andrew Ng's Machine Learning (Coursera):**  This is arguably the most popular introductory course to machine learning.  It's offered on Coursera (paid for a certificate, but free to audit).  It's comprehensive, well-structured, and uses MATLAB and Octave (a free alternative).  Excellent for beginners.\\n\\n2. **fast.ai:** This is a more practical and less mathematically rigorous approach to deep learning.  They offer free courses that focus on getting you building and deploying models quickly.  Great for those who want to see results fast and prefer a less theoretical approach.  They use Python and PyTorch.\\n\\n\\n**Tools/Platforms to Practice:**\\n\\n1. **Google Colab:** A free cloud-based Jupyter Notebook environment.  It provides free GPU access (with limitations), making it ideal for experimenting with deep learning models without needing a powerful computer.\\n\\n2. **Kaggle:** A platform for data science competitions and learning.  You can find datasets, participate in competitions, and learn from others' work.  It's a great place to practice your skills on real-world problems.\\n\\n3. **GitHub:**  Use GitHub to store your code, collaborate with others, and contribute to open-source projects related to AI/ML.  This is crucial for building your portfolio and learning from others' code.\\n\\n\\n**Universities and Programs (Examples - Research thoroughly based on your location and career goals):**\\n\\n1. **Carnegie Mellon University (CMU):**  Renowned for its strong AI program, offering both undergraduate and graduate degrees.\\n\\n2. **Massachusetts Institute of Technology (MIT):**  Another top-tier institution with excellent AI and machine learning programs, known for its research contributions.\\n\\n3. **Stanford University:**  A leading university in AI research, with various programs and opportunities for studying AI and related fields.\\n\\n\\n**Note:**  The best choice for you will depend on your background, learning style, and career aspirations.  If you're a complete beginner, start with Andrew Ng's course. If you prefer a more hands-on approach, fast.ai is a good option.  For advanced study, consider a university program.  Remember to supplement your learning with consistent practice using the tools and platforms mentioned above.\" additional_kwargs={} response_metadata={'prompt_feedback': {'block_reason': 0, 'safety_ratings': []}, 'finish_reason': 'STOP', 'model_name': 'gemini-1.5-flash', 'safety_ratings': []} id='run--1da754cd-c1f2-46d4-b2a4-e4414cef4f89-0' usage_metadata={'input_tokens': 39, 'output_tokens': 514, 'total_tokens': 553, 'input_token_details': {'cache_read': 0}}\u001b[0m\n",
      "Thought:\u001b[32;1m\u001b[1;3mThought: I now know the final answer. The observation provides a comprehensive list of learning paths and institutes for AI and Machine Learning, including online courses (Andrew Ng's Machine Learning on Coursera, fast.ai), practice platforms (Google Colab, Kaggle, GitHub), and universities (Carnegie Mellon University, MIT, Stanford University).\n",
      "Final Answer: Top learning paths and institutes for AI and Machine Learning include online courses like Andrew Ng's Machine Learning on Coursera and fast.ai; practice platforms such as Google Colab, Kaggle, and GitHub; and universities such as Carnegie Mellon University, MIT, and Stanford University.  The best choice depends on individual background, learning style, and career goals.\u001b[0m\n",
      "\n",
      "\u001b[1m> Finished chain.\u001b[0m\n",
      "\n",
      " Suggestions:\n",
      " {'input': 'AI and Machine Learning', 'output': \"Top learning paths and institutes for AI and Machine Learning include online courses like Andrew Ng's Machine Learning on Coursera and fast.ai; practice platforms such as Google Colab, Kaggle, and GitHub; and universities such as Carnegie Mellon University, MIT, and Stanford University.  The best choice depends on individual background, learning style, and career goals.\"}\n"
     ]
    }
   ],
   "source": [
    "import os\n",
    "import wikipedia\n",
    "from langchain.agents import tool, initialize_agent, AgentType\n",
    "from langchain_google_genai import ChatGoogleGenerativeAI\n",
    "\n",
    "# Set Gemini Key\n",
    "os.environ[\"GOOGLE_API_KEY\"] = \"AIzaSyCVp_\"\n",
    "\n",
    "# Load Gemini model\n",
    "llm = ChatGoogleGenerativeAI(model=\"gemini-1.5-flash\", temperature=0.4)\n",
    "\n",
    "# Define guidance tool\n",
    "@tool\n",
    "def course_college_recommender(topic: str) -> str:\n",
    "    \"\"\"\n",
    "    Given an interest (e.g. 'AI', 'Cybersecurity'), suggests top learning paths and institutes.\n",
    "    \"\"\"\n",
    "    try:\n",
    "        wiki = wikipedia.summary(topic.split()[0], sentences=2)\n",
    "\n",
    "        prompt = (\n",
    "            f\"The user is interested in {topic}.\\n\"\n",
    "            f\"Suggest 2-3 top online courses (free or paid), tools/platforms to practice, and universities or programs to study it.\"\n",
    "        )\n",
    "        suggestions = llm.invoke(prompt)\n",
    "\n",
    "        return f\"Wikipedia Summary:\\n{wiki}\\n\\n Gemini Recommendations:\\n{suggestions}\"\n",
    "    \n",
    "    except wikipedia.exceptions.DisambiguationError as e:\n",
    "        return f\"Too many options! Try being specific. Suggestions: {', '.join(e.options[:3])}\"\n",
    "    except wikipedia.exceptions.PageError:\n",
    "        return \"Topic not found in Wikipedia. Try a broader subject.\"\n",
    "    except Exception as e:\n",
    "        return f\"Error: {str(e)}\"\n",
    "\n",
    "# Initialize agent\n",
    "tools = [course_college_recommender]\n",
    "\n",
    "agent = initialize_agent(\n",
    "    tools=tools,\n",
    "    llm=llm,\n",
    "    agent=AgentType.ZERO_SHOT_REACT_DESCRIPTION,\n",
    "    verbose=True\n",
    ")\n",
    "\n",
    "# CLI\n",
    "if __name__ == \"__main__\":\n",
    "    print(\"Course & College Guidance Agent Ready!\")\n",
    "    query = input(\"What topic are you interested in learning?\\n> \")\n",
    "    result = agent.invoke(query)\n",
    "    print(\"\\n Suggestions:\\n\", result)\n"
   ]
  },
  {
   "cell_type": "code",
   "execution_count": null,
   "id": "8af455dc-65d7-4240-b73c-9d658da4f801",
   "metadata": {},
   "outputs": [],
   "source": [
    "(Suggestions : AI and Machine Learning,\n",
    "               Cloud Computing and DevOps,\n",
    "               Blockchain,\n",
    "               Cybersecurity,\n",
    "               UI/UX Design)"
   ]
  }
 ],
 "metadata": {
  "kernelspec": {
   "display_name": "Python 3 (ipykernel)",
   "language": "python",
   "name": "python3"
  },
  "language_info": {
   "codemirror_mode": {
    "name": "ipython",
    "version": 3
   },
   "file_extension": ".py",
   "mimetype": "text/x-python",
   "name": "python",
   "nbconvert_exporter": "python",
   "pygments_lexer": "ipython3",
   "version": "3.12.7"
  }
 },
 "nbformat": 4,
 "nbformat_minor": 5
}
