{
 "cells": [
  {
   "cell_type": "code",
   "execution_count": 1,
   "id": "43c9d665-f000-4342-94ff-0c59ae054333",
   "metadata": {},
   "outputs": [
    {
     "name": "stderr",
     "output_type": "stream",
     "text": [
      "C:\\Users\\ASUS\\AppData\\Local\\Temp\\ipykernel_17672\\549084144.py:48: LangChainDeprecationWarning: LangChain agents will continue to be supported, but it is recommended for new use cases to be built with LangGraph. LangGraph offers a more flexible and full-featured framework for building agents, including support for tool-calling, persistence of state, and human-in-the-loop workflows. For details, refer to the `LangGraph documentation <https://langchain-ai.github.io/langgraph/>`_ as well as guides for `Migrating from AgentExecutor <https://python.langchain.com/docs/how_to/migrate_agent/>`_ and LangGraph's `Pre-built ReAct agent <https://langchain-ai.github.io/langgraph/how-tos/create-react-agent/>`_.\n",
      "  agent = initialize_agent(\n"
     ]
    },
    {
     "name": "stdout",
     "output_type": "stream",
     "text": [
      "Agent Ready. Ask me about an AI/ML tool you need!\n"
     ]
    },
    {
     "name": "stdin",
     "output_type": "stream",
     "text": [
      " Enter a category (e.g., 'image processing', 'deployment'):  find a tool for deployment\n"
     ]
    },
    {
     "name": "stderr",
     "output_type": "stream",
     "text": [
      "C:\\Users\\ASUS\\AppData\\Local\\Temp\\ipykernel_17672\\549084144.py:59: LangChainDeprecationWarning: The method `Chain.run` was deprecated in langchain 0.1.0 and will be removed in 1.0. Use :meth:`~invoke` instead.\n",
      "  response = agent.run(user_query)\n"
     ]
    },
    {
     "name": "stdout",
     "output_type": "stream",
     "text": [
      "\n",
      "\n",
      "\u001b[1m> Entering new AgentExecutor chain...\u001b[0m\n",
      "\u001b[32;1m\u001b[1;3mAction: find_ai_tool\n",
      "Action Input: deployment\u001b[0m\n",
      "Observation: \u001b[36;1m\u001b[1;3m **Wikipedia Summary:** Employment is a relationship between two parties regulating the provision of paid labour services.  Usually based on a contract, one party, the employer, which might be a corporation, a not-for-profit organization, a co-operative, or any other entity, pays the other, the employee, in return for carrying out assigned work.\n",
      "\n",
      " **Suggested Tool:**  Tool: [Docker + Streamlit Sharing] - Deploy ML apps easily with containers and UI.\u001b[0m\n",
      "Thought:\u001b[32;1m\u001b[1;3mFinal Answer: Tool: [Docker + Streamlit Sharing] - Deploy ML apps easily with containers and UI.\u001b[0m\n",
      "\n",
      "\u001b[1m> Finished chain.\u001b[0m\n",
      "\n",
      " Agent Response:\n",
      "Tool: [Docker + Streamlit Sharing] - Deploy ML apps easily with containers and UI.\n"
     ]
    }
   ],
   "source": [
    "# Required Imports\n",
    "import os\n",
    "import wikipedia\n",
    "from langchain.agents import tool, initialize_agent, AgentType\n",
    "from langchain_google_genai import ChatGoogleGenerativeAI\n",
    "\n",
    "# Set your Gemini API Key (Use dotenv or environment-safe practices for production)\n",
    "os.environ[\"GOOGLE_API_KEY\"] = \"AIzaSyCVp_K3-k\"\n",
    "\n",
    "# Load Gemini Model\n",
    "llm = ChatGoogleGenerativeAI(model=\"gemini-2.5-flash\", temperature=0.3)\n",
    "\n",
    "# Unique Custom Tool: Suggest Best AI Tools Based on Input Category\n",
    "@tool\n",
    "def find_ai_tool(category: str) -> str:\n",
    "    \"\"\"\n",
    "    Suggests a relevant AI/ML/DevOps tool based on category input.\n",
    "    Example input: 'text generation', 'deployment', 'image processing'\n",
    "    \"\"\"\n",
    "    try:\n",
    "        # Get Wikipedia summary\n",
    "        wiki_summary = wikipedia.summary(category, sentences=2)\n",
    "\n",
    "        # Tool recommendations (expandable)\n",
    "        suggestions = {\n",
    "            \"text generation\": \" Tool: [Hugging Face Transformers](https://huggingface.co) - Powerful NLP models like GPT, BERT, etc.\",\n",
    "            \"deployment\": \" Tool: [Docker + Streamlit Sharing] - Deploy ML apps easily with containers and UI.\",\n",
    "            \"image processing\": \" Tool: [OpenCV + YOLO] - OpenCV for preprocessing, YOLO for detection.\",\n",
    "            \"code automation\": \" Tool: [GitHub Actions] - Automate builds, tests, and deployments.\",\n",
    "            \"quantum computing\": \" Tool: [Amazon Braket] - Run quantum jobs directly from the cloud.\",\n",
    "            \"data pipeline\": \" Tool: [Apache Airflow] - Automate and monitor ML pipelines easily.\",\n",
    "            \"chatbots\": \" Tool: [Rasa] - Build customizable open-source chatbots with NLP support.\",\n",
    "        }\n",
    "\n",
    "        response = suggestions.get(category.lower(), \"Try using broader or more popular keywords. This agent is still learning! \")\n",
    "        return f\" **Wikipedia Summary:** {wiki_summary}\\n\\n **Suggested Tool:** {response}\"\n",
    "    \n",
    "    except wikipedia.exceptions.DisambiguationError as e:\n",
    "        return f\" Too many meanings found! Be specific. Maybe try: {', '.join(e.options[:3])}\"\n",
    "    except wikipedia.exceptions.PageError:\n",
    "        return \" The topic wasn't found on Wikipedia. Try something more general.\"\n",
    "    except Exception as e:\n",
    "        return f\" Error: {str(e)}\"\n",
    "\n",
    "# Initialize LangChain Agent with the Custom Tool\n",
    "tools = [find_ai_tool]\n",
    "\n",
    "agent = initialize_agent(\n",
    "    tools=tools,\n",
    "    llm=llm,\n",
    "    agent=AgentType.ZERO_SHOT_REACT_DESCRIPTION,\n",
    "    verbose=True\n",
    ")\n",
    "\n",
    "#  Example Use\n",
    "if __name__ == \"__main__\":\n",
    "    print(\"Agent Ready. Ask me about an AI/ML tool you need!\")\n",
    "    user_query = input(\" Enter a category (e.g., 'image processing', 'deployment'): \")\n",
    "    response = agent.run(user_query)\n",
    "    print(f\"\\n Agent Response:\\n{response}\")\n"
   ]
  },
  {
   "cell_type": "code",
   "execution_count": null,
   "id": "b921063e-fb3c-45c4-9e0a-3cb935e49ab9",
   "metadata": {},
   "outputs": [],
   "source": [
    "Enter a category(examples) : suggest image processing tools, object detection, autoML platform, quantum computing"
   ]
  }
 ],
 "metadata": {
  "kernelspec": {
   "display_name": "Python 3 (ipykernel)",
   "language": "python",
   "name": "python3"
  },
  "language_info": {
   "codemirror_mode": {
    "name": "ipython",
    "version": 3
   },
   "file_extension": ".py",
   "mimetype": "text/x-python",
   "name": "python",
   "nbconvert_exporter": "python",
   "pygments_lexer": "ipython3",
   "version": "3.12.7"
  }
 },
 "nbformat": 4,
 "nbformat_minor": 5
}
