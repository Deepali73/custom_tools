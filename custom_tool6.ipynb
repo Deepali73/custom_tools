{
 "cells": [
  {
   "cell_type": "code",
   "execution_count": 1,
   "id": "c4d504bd-b5a3-402b-9ed4-054728a56d6e",
   "metadata": {},
   "outputs": [
    {
     "name": "stderr",
     "output_type": "stream",
     "text": [
      "C:\\Users\\ASUS\\AppData\\Local\\Temp\\ipykernel_14024\\1814570997.py:31: LangChainDeprecationWarning: LangChain agents will continue to be supported, but it is recommended for new use cases to be built with LangGraph. LangGraph offers a more flexible and full-featured framework for building agents, including support for tool-calling, persistence of state, and human-in-the-loop workflows. For details, refer to the `LangGraph documentation <https://langchain-ai.github.io/langgraph/>`_ as well as guides for `Migrating from AgentExecutor <https://python.langchain.com/docs/how_to/migrate_agent/>`_ and LangGraph's `Pre-built ReAct agent <https://langchain-ai.github.io/langgraph/how-tos/create-react-agent/>`_.\n",
      "  agent = initialize_agent(\n"
     ]
    },
    {
     "name": "stdout",
     "output_type": "stream",
     "text": [
      "Power BI Helper Agent is Ready!\n"
     ]
    },
    {
     "name": "stdin",
     "output_type": "stream",
     "text": [
      "Ask your Power BI question:\n",
      ">  Can I share Power BI dashboard with free users?\n"
     ]
    },
    {
     "name": "stdout",
     "output_type": "stream",
     "text": [
      "\n",
      "\n",
      "\u001b[1m> Entering new AgentExecutor chain...\u001b[0m\n",
      "\u001b[32;1m\u001b[1;3mThought: This question is about sharing a Power BI dashboard with users who don't have a Power BI Pro license.  I should use the `powerbi_helper` tool to find out how to do this, if it's possible.\n",
      "\n",
      "Action: powerbi_helper\n",
      "Action Input: How can I share a Power BI dashboard without Pro license?\u001b[0m\n",
      "Observation: \u001b[36;1m\u001b[1;3mcontent='You can share a Power BI dashboard without a Pro license, but the options are limited compared to what you can do with a Pro license.  Here\\'s a breakdown of how you can do it, along with the pros and cons of each approach:\\n\\n**1. Sharing with the \"Publish to Web\" Feature (Free License):**\\n\\n* **How it works:** This option lets you embed your dashboard directly into a website or blog.  Anyone with the link can view it, even without a Power BI account.  You control the level of interactivity (e.g., filtering, drilling down).\\n* **Pros:** Simple, free, and great for public-facing dashboards.\\n* **Cons:** Limited interactivity compared to other methods.  No collaboration features.  The dashboard is a static snapshot; data refreshes depend on the data source\\'s schedule.  Security is limited; anyone with the link can access it.\\n* **Best Practices:** Use this only for dashboards you want to be publicly accessible.  Consider data anonymization or aggregation before publishing to protect sensitive information.\\n\\n**2. Sharing with a Power BI Free License (Free License):**\\n\\n* **How it works:**  You can share your report and dashboard with others who also have a free Power BI account. They will need to sign up for a free account if they don\\'t already have one.\\n* **Pros:**  Simpler than setting up a web page.\\n* **Cons:**  Recipients need a Power BI account.  Limited data refresh frequency.  Collaboration features are limited.  Data refresh might be constrained by the free account limitations.\\n\\n**3.  Using a Power BI Pro License (Paid License):**\\n\\n* **How it works:**  With a Pro license, you can share your dashboard with others (who may or may not have Power BI licenses).  They\\'ll get a more interactive experience, including data refreshes based on your data source settings. You can also manage permissions and collaborate more effectively.\\n* **Pros:** Full functionality, collaboration, and data refresh capabilities.\\n* **Cons:** Requires a paid license.\\n\\n**4. Using a Power BI Premium Capacity (Paid License):**\\n\\n* **How it works:** A Power BI Premium capacity allows you to share dashboards with a large number of users without requiring them to have individual Pro licenses.  This is ideal for organizations with many users who need access to dashboards.\\n* **Pros:** Scalable, cost-effective for large organizations, and allows for more robust data governance and security.\\n* **Cons:**  Requires a significant upfront investment.\\n\\n**5. Embedding with Power BI Embedded (Paid Service):**\\n\\n* **How it works:**  This is a cloud-based service that allows you to embed interactive Power BI dashboards into your own applications or websites. It\\'s a more advanced and customizable option.\\n* **Pros:**  Highly customizable, allows for integration with your own applications, and offers more control over security and branding.\\n* **Cons:**  Requires technical expertise to set up and manage, and it\\'s a paid service.\\n\\n\\n**In summary:**\\n\\nIf you need to share a dashboard publicly with minimal interactivity, \"Publish to Web\" is the free option. If you need to share with a small group and don\\'t mind them having Power BI accounts, sharing with free licenses is an option. For full functionality, collaboration, and reliable data refresh, a Pro license or Premium capacity is necessary.  Power BI Embedded is the best option for integrating dashboards into custom applications.  Choose the option that best fits your needs and budget.' additional_kwargs={} response_metadata={'prompt_feedback': {'block_reason': 0, 'safety_ratings': []}, 'finish_reason': 'STOP', 'model_name': 'gemini-1.5-flash', 'safety_ratings': []} id='run--113ef992-2e7b-4245-8a70-d8a9b27a27e2-0' usage_metadata={'input_tokens': 53, 'output_tokens': 748, 'total_tokens': 801, 'input_token_details': {'cache_read': 0}}\u001b[0m\n",
      "Thought:\u001b[32;1m\u001b[1;3mThought:I now know the final answer based on the powerbi_helper output.  The answer depends on what kind of sharing is needed and whether the users have Power BI accounts.\n",
      "\n",
      "Final Answer: You can share a Power BI dashboard with free users, but the method and functionality will be limited.  You can use the \"Publish to Web\" feature to share a static version of the dashboard publicly, or share it with other users who also have free Power BI accounts. However, for full functionality, including collaboration and data refresh, the recipients would need Power BI Pro licenses or the dashboard would need to be hosted on a Power BI Premium capacity.\u001b[0m\n",
      "\n",
      "\u001b[1m> Finished chain.\u001b[0m\n",
      "\n",
      " Answer:\n",
      " {'input': 'Can I share Power BI dashboard with free users?', 'output': 'You can share a Power BI dashboard with free users, but the method and functionality will be limited.  You can use the \"Publish to Web\" feature to share a static version of the dashboard publicly, or share it with other users who also have free Power BI accounts. However, for full functionality, including collaboration and data refresh, the recipients would need Power BI Pro licenses or the dashboard would need to be hosted on a Power BI Premium capacity.'}\n"
     ]
    }
   ],
   "source": [
    "import os\n",
    "from langchain.agents import tool, initialize_agent, AgentType\n",
    "from langchain_google_genai import ChatGoogleGenerativeAI\n",
    "\n",
    "# Set Gemini API Key\n",
    "os.environ[\"GOOGLE_API_KEY\"] = \"AIzaSyCVp_\"\n",
    "\n",
    "# Load LLM\n",
    "llm = ChatGoogleGenerativeAI(model=\"gemini-1.5-flash\", temperature=0.4)\n",
    "\n",
    "# Define the tool\n",
    "@tool\n",
    "def powerbi_helper(question: str) -> str:\n",
    "    \"\"\"\n",
    "    Solves Power BI licensing, sharing, and deployment issues.\n",
    "    Example: 'How can I share a dashboard without Pro license?'\n",
    "    \"\"\"\n",
    "    try:\n",
    "        prompt = (\n",
    "            f\"You are a Power BI expert. Help the user with this question:\\n\\n\"\n",
    "            f\"{question}\\n\\n\"\n",
    "            f\"Provide a user-friendly answer, suggest best practices, and include options (like Pro, Premium, Embedded) if relevant.\"\n",
    "        )\n",
    "        return llm.invoke(prompt)\n",
    "    except Exception as e:\n",
    "        return f\" Error: {str(e)}\"\n",
    "\n",
    "# Initialize agent\n",
    "tools = [powerbi_helper]\n",
    "\n",
    "agent = initialize_agent(\n",
    "    tools=tools,\n",
    "    llm=llm,\n",
    "    agent=AgentType.ZERO_SHOT_REACT_DESCRIPTION,\n",
    "    verbose=True\n",
    ")\n",
    "\n",
    "# CLI\n",
    "if __name__ == \"__main__\":\n",
    "    print(\"Power BI Helper Agent is Ready!\")\n",
    "    query = input(\"Ask your Power BI question:\\n> \")\n",
    "    result = agent.invoke(query)\n",
    "    print(\"\\n Answer:\\n\", result)\n"
   ]
  },
  {
   "cell_type": "code",
   "execution_count": null,
   "id": "a65964fd-3457-4123-8b46-3566391b9367",
   "metadata": {},
   "outputs": [],
   "source": [
    "(Suggestions : Can I share Power BI dashboard with free users?,\n",
    "               What is difference between Power BI Pro and Premium?,\n",
    "               How to embed Power BI in a web app?)"
   ]
  }
 ],
 "metadata": {
  "kernelspec": {
   "display_name": "Python 3 (ipykernel)",
   "language": "python",
   "name": "python3"
  },
  "language_info": {
   "codemirror_mode": {
    "name": "ipython",
    "version": 3
   },
   "file_extension": ".py",
   "mimetype": "text/x-python",
   "name": "python",
   "nbconvert_exporter": "python",
   "pygments_lexer": "ipython3",
   "version": "3.12.7"
  }
 },
 "nbformat": 4,
 "nbformat_minor": 5
}
