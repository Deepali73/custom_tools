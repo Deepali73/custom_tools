{
 "cells": [
  {
   "cell_type": "code",
   "execution_count": 1,
   "id": "dda75093-e9a2-4a3a-b807-ed75893a9cc6",
   "metadata": {},
   "outputs": [
    {
     "name": "stderr",
     "output_type": "stream",
     "text": [
      "C:\\Users\\ASUS\\AppData\\Local\\Temp\\ipykernel_3876\\3503821017.py:45: LangChainDeprecationWarning: LangChain agents will continue to be supported, but it is recommended for new use cases to be built with LangGraph. LangGraph offers a more flexible and full-featured framework for building agents, including support for tool-calling, persistence of state, and human-in-the-loop workflows. For details, refer to the `LangGraph documentation <https://langchain-ai.github.io/langgraph/>`_ as well as guides for `Migrating from AgentExecutor <https://python.langchain.com/docs/how_to/migrate_agent/>`_ and LangGraph's `Pre-built ReAct agent <https://langchain-ai.github.io/langgraph/how-tos/create-react-agent/>`_.\n",
      "  agent = initialize_agent(\n"
     ]
    },
    {
     "name": "stdout",
     "output_type": "stream",
     "text": [
      "Medical Symptom-to-Specialist Agent is Ready!\n"
     ]
    },
    {
     "name": "stdin",
     "output_type": "stream",
     "text": [
      "Enter your symptoms (e.g., chest pain and shortness of breath):\n",
      ">  Fever, sore throat, and body aches\n"
     ]
    },
    {
     "name": "stdout",
     "output_type": "stream",
     "text": [
      "\n",
      "\n",
      "\u001b[1m> Entering new AgentExecutor chain...\u001b[0m\n",
      "\u001b[32;1m\u001b[1;3mThought: I need to determine the possible conditions and specialists based on the given symptoms.  I can use the `symptom_to_specialist` function for this.\n",
      "Action: symptom_to_specialist\n",
      "Action Input: \"Fever, sore throat, and body aches\"\u001b[0m\n",
      "Observation: \u001b[36;1m\u001b[1;3m Wikipedia Insight: Fever or pyrexia in humans is a symptom of an anti-infection defense mechanism that appears with body temperature exceeding the normal range caused by an increase in the body's temperature set point in the hypothalamus. There is no single agreed-upon upper limit for normal temperature: sources use values ranging between 37.2 and 38.3 °C (99.0 and 100.9 °F) in humans.\n",
      "\n",
      " Gemini Suggestion:\n",
      "content='The symptoms of fever, sore throat, and body aches could indicate several possibilities, ranging from common to more serious.  It\\'s crucial to see a doctor for a proper diagnosis.\\n\\n1. **Possible Health Conditions:**\\n\\n* **Viral Infection (most common):** This is the most likely cause.  Common culprits include the flu (influenza), a common cold, or other viral illnesses.  These usually resolve on their own within a week or two with rest and supportive care.\\n* **Bacterial Infection:**  While less common than viral infections, a bacterial infection like strep throat (causing a particularly painful sore throat) or bacterial pneumonia (if accompanied by cough and shortness of breath) is possible.  Bacterial infections require antibiotics.\\n* **Other Infections:**  Less common possibilities include mononucleosis (\"mono\"), which often presents with fatigue in addition to these symptoms, or other less frequent viral or bacterial infections.\\n* **Other Conditions:**  In rare cases, these symptoms could be associated with other conditions, such as autoimmune diseases or even early stages of some more serious illnesses.  However, these are less likely given the described symptoms alone.\\n\\n\\n2. **Medical Specialist to Consult:**\\n\\nInitially, you should consult your **primary care physician (PCP) or general practitioner (GP)**.  They can perform a physical exam, ask about your medical history, and order any necessary tests (like a rapid strep test or blood work) to determine the cause of your symptoms.  If your PCP suspects a more specialized issue, they will refer you to the appropriate specialist, such as an:\\n\\n* **Infectious disease specialist:** If the infection is severe, unusual, or doesn\\'t respond to initial treatment.\\n* **ENT (Ear, Nose, and Throat) specialist:** If the sore throat is particularly severe or persistent.\\n* **Rheumatologist:** If there\\'s suspicion of an autoimmune condition.\\n\\n\\n**Important Note:**  This information is for general knowledge and does not constitute medical advice.  It\\'s essential to seek professional medical evaluation for accurate diagnosis and treatment.  Don\\'t delay seeking medical attention, especially if your symptoms worsen or you experience new symptoms like difficulty breathing, severe headache, or a rash.' additional_kwargs={} response_metadata={'prompt_feedback': {'block_reason': 0, 'safety_ratings': []}, 'finish_reason': 'STOP', 'model_name': 'gemini-1.5-flash', 'safety_ratings': []} id='run--cb98d986-7026-47f1-ac0b-d220eb4b877b-0' usage_metadata={'input_tokens': 46, 'output_tokens': 457, 'total_tokens': 503, 'input_token_details': {'cache_read': 0}}\u001b[0m\n",
      "Thought:\u001b[32;1m\u001b[1;3mThought: I now know the final answer. The observation provides a comprehensive list of possible conditions and specialists.\n",
      "Final Answer: Based on the symptoms of fever, sore throat, and body aches, the most likely causes are viral or bacterial infections.  A primary care physician (PCP) or general practitioner (GP) should be consulted for diagnosis.  Depending on the diagnosis, referral to an infectious disease specialist, ENT specialist, or rheumatologist may be necessary.  This information is for general knowledge and does not constitute medical advice; professional medical evaluation is crucial.\u001b[0m\n",
      "\n",
      "\u001b[1m> Finished chain.\u001b[0m\n",
      "\n",
      " Output:\n",
      " {'input': 'Fever, sore throat, and body aches', 'output': 'Based on the symptoms of fever, sore throat, and body aches, the most likely causes are viral or bacterial infections.  A primary care physician (PCP) or general practitioner (GP) should be consulted for diagnosis.  Depending on the diagnosis, referral to an infectious disease specialist, ENT specialist, or rheumatologist may be necessary.  This information is for general knowledge and does not constitute medical advice; professional medical evaluation is crucial.'}\n"
     ]
    }
   ],
   "source": [
    "import os\n",
    "import wikipedia\n",
    "from langchain.agents import tool, initialize_agent, AgentType\n",
    "from langchain_google_genai import ChatGoogleGenerativeAI\n",
    "\n",
    "# Set Gemini API key\n",
    "os.environ[\"GOOGLE_API_KEY\"] = \"AIzaSyCVp_\"\n",
    "\n",
    "# Load Gemini\n",
    "llm = ChatGoogleGenerativeAI(model=\"gemini-1.5-flash\", temperature=0.3)\n",
    "\n",
    "# Define the tool\n",
    "@tool\n",
    "def symptom_to_specialist(symptom_text: str) -> str:\n",
    "    \"\"\"\n",
    "    Given a symptom description, suggests possible conditions and specialist.\n",
    "    \"\"\"\n",
    "    try:\n",
    "        # Use Wikipedia to summarize symptoms (first word match)\n",
    "        keyword = symptom_text.split()[0]  # rough search\n",
    "        wiki_summary = wikipedia.summary(keyword, sentences=2)\n",
    "\n",
    "        # Generate Gemini response\n",
    "        prompt = (\n",
    "            f\"User described these symptoms: {symptom_text}.\\n\"\n",
    "            f\"1. What possible health condition(s) could this indicate?\\n\"\n",
    "            f\"2. Which medical specialist should they consult?\\n\"\n",
    "            f\"Be specific but user-friendly.\"\n",
    "        )\n",
    "\n",
    "        gemini_answer = llm.invoke(prompt)\n",
    "\n",
    "        return f\" Wikipedia Insight: {wiki_summary}\\n\\n Gemini Suggestion:\\n{gemini_answer}\"\n",
    "\n",
    "    except wikipedia.exceptions.DisambiguationError as e:\n",
    "        return f\"Too many meanings found! Try being more specific. Maybe: {', '.join(e.options[:3])}\"\n",
    "    except wikipedia.exceptions.PageError:\n",
    "        return \"Wikipedia: No match found. Try simpler symptom keywords.\"\n",
    "    except Exception as e:\n",
    "        return f\" Error: {str(e)}\"\n",
    "\n",
    "# Initialize agent\n",
    "tools = [symptom_to_specialist]\n",
    "\n",
    "agent = initialize_agent(\n",
    "    tools=tools,\n",
    "    llm=llm,\n",
    "    agent=AgentType.ZERO_SHOT_REACT_DESCRIPTION,\n",
    "    verbose=True\n",
    ")\n",
    "\n",
    "# CLI\n",
    "if __name__ == \"__main__\":\n",
    "    print(\"Medical Symptom-to-Specialist Agent is Ready!\")\n",
    "    user_query = input(\"Enter your symptoms (e.g., chest pain and shortness of breath):\\n> \")\n",
    "    result = agent.invoke(user_query)\n",
    "    print(\"\\n Output:\\n\", result)\n"
   ]
  },
  {
   "cell_type": "code",
   "execution_count": null,
   "id": "083f862b-4e11-43c3-876f-2c3d42eda4f8",
   "metadata": {},
   "outputs": [],
   "source": [
    "(Suggestions : Fever, sore throat, and body aches ,\n",
    "               Chest pain and shortness of breath,\n",
    "               Blurred vision and nausea,\n",
    "               Joint pain and stiffness)\n",
    "\n"
   ]
  }
 ],
 "metadata": {
  "kernelspec": {
   "display_name": "Python 3 (ipykernel)",
   "language": "python",
   "name": "python3"
  },
  "language_info": {
   "codemirror_mode": {
    "name": "ipython",
    "version": 3
   },
   "file_extension": ".py",
   "mimetype": "text/x-python",
   "name": "python",
   "nbconvert_exporter": "python",
   "pygments_lexer": "ipython3",
   "version": "3.12.7"
  }
 },
 "nbformat": 4,
 "nbformat_minor": 5
}
